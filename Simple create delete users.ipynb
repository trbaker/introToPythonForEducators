{
 "cells": [
  {
   "cell_type": "markdown",
   "metadata": {},
   "source": [
    "# Create users\n",
    "\n",
    "WARNING: Change the names in the usernames list before running.  Usernames in AGO must be unique."
   ]
  },
  {
   "cell_type": "code",
   "execution_count": null,
   "metadata": {},
   "outputs": [],
   "source": [
    "#this is an admin search\n",
    "from arcgis.gis import GIS\n",
    "gis3=GIS(\"https://esriedudemo.maps.arcgis.com\",\"pyeduc\",\"\")\n",
    "\n",
    "usernames=('mike_esriedudemo','sue_esriedudemo')\n",
    "\n",
    "for i in usernames:\n",
    "    target_user = gis3.users.create(username = i,\n",
    "                              password = '0286eb9ac01f',\n",
    "                              firstname = 'demo',\n",
    "                              lastname = 'user',\n",
    "                              email = 'edcommunity@esri.com',\n",
    "                              description = 'Demonstrating how to create users using ArcGIS Python API',\n",
    "                              role = 'org_user',\n",
    "                              level = 2,\n",
    "                              provider = 'arcgis')\n",
    "    target_user\n",
    "    display(target_user)  "
   ]
  },
  {
   "cell_type": "code",
   "execution_count": null,
   "metadata": {},
   "outputs": [],
   "source": [
    "# --------------------------- CAUTION ------------------- #\n",
    "# DELETE SCRIPT FOLLOWS \n",
    "\n",
    "\n",
    "user = gis3.users.get('mike_esriedudemo')\n",
    "try: \n",
    "    #user.delete()\n",
    "    print('Account deleted: ' + str(user.username))\n",
    "except Exception as e:\n",
    "    print(\"User not deleted. Items or licenses are attached to the account.\")"
   ]
  },
  {
   "cell_type": "code",
   "execution_count": null,
   "metadata": {},
   "outputs": [],
   "source": []
  }
 ],
 "metadata": {
  "kernelspec": {
   "display_name": "Python 3",
   "language": "python",
   "name": "python3"
  },
  "language_info": {
   "codemirror_mode": {
    "name": "ipython",
    "version": 3
   },
   "file_extension": ".py",
   "mimetype": "text/x-python",
   "name": "python",
   "nbconvert_exporter": "python",
   "pygments_lexer": "ipython3",
   "version": "3.7.1"
  }
 },
 "nbformat": 4,
 "nbformat_minor": 2
}
