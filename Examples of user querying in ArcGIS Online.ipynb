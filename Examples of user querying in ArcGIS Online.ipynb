{
 "cells": [
  {
   "cell_type": "markdown",
   "metadata": {},
   "source": [
    "# Examples of user querying in ArcGIS Online\n",
    "\n",
    "The first cell uses anonymous access to get a username and the second cell uses an \n",
    "AGO account to search for @esri.com public AGO accounts.\n"
   ]
  },
  {
   "cell_type": "code",
   "execution_count": 6,
   "metadata": {},
   "outputs": [
    {
     "data": {
      "text/html": [
       "<div class=\"9item_container\" style=\"height: auto; overflow: hidden; border: 1px solid #cfcfcf; border-radius: 2px; background: #f6fafa; line-height: 1.21429em; padding: 10px;\">\n",
       "                    <div class=\"item_left\" style=\"width: 210px; float: left;\">\n",
       "                       <a href='https://www.arcgis.com/home/user.html?user=mapsnrocks' target='_blank'>\n",
       "                        <img src='https://www.arcgis.com/sharing/rest/community/users/mapsnrocks/info/GeoD_headshot2017.jpg' class=\"itemThumbnail\">\n",
       "                       </a>\n",
       "                    </div>\n",
       "\n",
       "                    <div class=\"item_right\" style=\"float: none; width: auto; overflow: hidden;\">\n",
       "                        <a href='https://www.arcgis.com/home/user.html?user=mapsnrocks' target='_blank'><b>George Dailey</b>\n",
       "                        </a>\n",
       "                        <br/><br/><b>Bio</b>: Hi! MapsnRocks is me, George Dailey. Besides co-managing the Esri GIS in Schools Program and leading the Esri EdTeam efforts on the use of GIS in the administration and operations of educational institutions, I am an avid historical map collector. And, I've been collecting rock specimens and exploring Earth's landforms since that first family road trip in the early 1960s. If you want to discuss GIS in education, ArcGIS.com, Web mapping, historical maps, etc., feel free to contact me gdailey@esri.com; +1-214-649-3950.  \n",
       "                        <br/><b>First Name</b>: George\n",
       "                        <br/><b>Last Name</b>: Dailey\n",
       "                        <br/><b>Username</b>: mapsnrocks\n",
       "                        <br/><b>Joined</b>: August 22, 2011\n",
       "\n",
       "                    </div>\n",
       "                </div>\n",
       "                "
      ],
      "text/plain": [
       "<User username:mapsnrocks>"
      ]
     },
     "execution_count": 6,
     "metadata": {},
     "output_type": "execute_result"
    }
   ],
   "source": [
    "#this is an anonymous search\n",
    "from arcgis.gis import GIS\n",
    "gis=GIS()\n",
    "user=gis.users.get('mapsnrocks')\n",
    "user\n",
    "# if nothing appears below, the username may not exist. "
   ]
  },
  {
   "cell_type": "code",
   "execution_count": null,
   "metadata": {},
   "outputs": [],
   "source": [
    "#this is an admin search\n",
    "from arcgis.gis import GIS\n",
    "gis2=GIS(\"https://esriedudemo.maps.arcgis.com\",\"pyeduc\",\"PASSWORD_GOES_HERE\")\n",
    "esri_public_accounts = gis2.users.search(query='email= @esri.com', max_users=10, outside_org='TRUE')\n",
    "#want to look for a specific email? Use:   query='email:cfitzpatrick@esri.com'\n",
    "\n",
    "print(\"Number of accounts returned: \" + str(len(esri_public_accounts)))"
   ]
  },
  {
   "cell_type": "code",
   "execution_count": null,
   "metadata": {},
   "outputs": [],
   "source": [
    "#loop over returned accounts in list: esri_public_accounts\n",
    "for user in esri_public_accounts:\n",
    "    curr=gis2.users.get(user.username)\n",
    "    display(curr)"
   ]
  },
  {
   "cell_type": "code",
   "execution_count": null,
   "metadata": {},
   "outputs": [],
   "source": []
  }
 ],
 "metadata": {
  "kernelspec": {
   "display_name": "Python 3",
   "language": "python",
   "name": "python3"
  },
  "language_info": {
   "codemirror_mode": {
    "name": "ipython",
    "version": 3
   },
   "file_extension": ".py",
   "mimetype": "text/x-python",
   "name": "python",
   "nbconvert_exporter": "python",
   "pygments_lexer": "ipython3",
   "version": "3.7.1"
  }
 },
 "nbformat": 4,
 "nbformat_minor": 2
}
